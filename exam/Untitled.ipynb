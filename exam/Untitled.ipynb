{
 "cells": [
  {
   "cell_type": "markdown",
   "metadata": {},
   "source": [
    "# Resources\n",
    "https://jump.dev/JuMP.jl/stable/tutorials/Getting%20started/getting_started_with_JuMP/"
   ]
  },
  {
   "cell_type": "code",
   "execution_count": 7,
   "metadata": {},
   "outputs": [
    {
     "name": "stderr",
     "output_type": "stream",
     "text": [
      "┌ Info: Precompiling Ipopt [b6b21f68-93f8-5de0-b562-5493be1d77c9]\n",
      "└ @ Base loading.jl:1278\n"
     ]
    }
   ],
   "source": [
    "using JuMP\n",
    "using Ipopt"
   ]
  },
  {
   "cell_type": "code",
   "execution_count": 69,
   "metadata": {},
   "outputs": [
    {
     "name": "stdout",
     "output_type": "stream",
     "text": [
      "#= In[69]:3 =# @variable(model, p >= 300) = p\n",
      "#= In[69]:4 =# @variable(model, 9 <= s <= 23) = s\n",
      "#= In[69]:12 =# @constraint(model, g1, s <= 23) = g1 : s <= 23.0\n",
      "#= In[69]:13 =# @constraint(model, g2, s >= 9) = g2 : s >= 9.0\n"
     ]
    },
    {
     "data": {
      "text/latex": [
       "g2 : $ s \\geq 9.0 $"
      ],
      "text/plain": [
       "g2 : s >= 9.0"
      ]
     },
     "execution_count": 69,
     "metadata": {},
     "output_type": "execute_result"
    }
   ],
   "source": [
    "model = Model(Ipopt.Optimizer)\n",
    "\n",
    "@show @variable(model, p >= 300)\n",
    "@show @variable(model, 9 <= s <= 23)\n",
    "\n",
    "Q = @NLexpression(model, 1200 - 2p - 7 * (s - 19)^2)\n",
    "c = @NLexpression(model, 66 + s^2 / 2)\n",
    "\n",
    "@NLobjective(model, Max, -c + p * Q)\n",
    "\n",
    "#@show @constraint(model, g2, p)\n",
    "@show @constraint(model, g1, s <= 23)\n",
    "@show @constraint(model, g2, s >= 9)"
   ]
  },
  {
   "cell_type": "code",
   "execution_count": 70,
   "metadata": {},
   "outputs": [
    {
     "name": "stdout",
     "output_type": "stream",
     "text": [
      "This is Ipopt version 3.13.4, running with linear solver mumps.\n",
      "NOTE: Other linear solvers might be more efficient (see Ipopt documentation).\n",
      "\n",
      "Number of nonzeros in equality constraint Jacobian...:        0\n",
      "Number of nonzeros in inequality constraint Jacobian.:        2\n",
      "Number of nonzeros in Lagrangian Hessian.............:        3\n",
      "\n",
      "Total number of variables............................:        2\n",
      "                     variables with only lower bounds:        1\n",
      "                variables with lower and upper bounds:        1\n",
      "                     variables with only upper bounds:        0\n",
      "Total number of equality constraints.................:        0\n",
      "Total number of inequality constraints...............:        2\n",
      "        inequality constraints with only lower bounds:        1\n",
      "   inequality constraints with lower and upper bounds:        0\n",
      "        inequality constraints with only upper bounds:        1\n",
      "\n",
      "iter    objective    inf_pr   inf_du lg(mu)  ||d||  lg(rg) alpha_du alpha_pr  ls\n",
      "   0 -2.8424696e+04 0.00e+00 3.34e+01  -1.0 0.00e+00    -  0.00e+00 0.00e+00   0\n",
      "   1  8.2997178e+04 0.00e+00 3.37e+01  -1.0 3.13e+00    -  2.85e-02 1.00e+00f  1\n",
      "   2  1.7972306e+05 0.00e+00 3.82e-01  -1.0 6.68e+00    -  5.73e-01 1.00e+00f  1\n",
      "   3  1.7972320e+05 0.00e+00 4.94e-03  -1.0 1.61e+00    -  1.00e+00 1.00e+00f  1\n",
      "   4  1.7974570e+05 0.00e+00 3.56e-04  -2.5 1.91e+00    -  1.00e+00 1.00e+00f  1\n",
      "   5  1.7975127e+05 0.00e+00 1.03e-06  -2.5 9.15e-01    -  1.00e+00 1.00e+00f  1\n",
      "   6  1.7975296e+05 0.00e+00 1.26e-06  -3.8 5.25e-01    -  1.00e+00 1.00e+00f  1\n",
      "   7  1.7975338e+05 0.00e+00 3.16e-08  -3.8 2.55e-01    -  1.00e+00 1.00e+00f  1\n",
      "   8  1.7975350e+05 0.00e+00 1.09e-08  -5.7 1.42e-01    -  1.00e+00 1.00e+00f  1\n",
      "   9  1.7975353e+05 0.00e+00 2.50e-09  -5.7 7.06e-02    -  1.00e+00 1.00e+00f  1\n",
      "iter    objective    inf_pr   inf_du lg(mu)  ||d||  lg(rg) alpha_du alpha_pr  ls\n",
      "  10  1.7975354e+05 0.00e+00 6.03e-10  -5.7 3.46e-02    -  1.00e+00 1.00e+00f  1\n",
      "  11  1.7975354e+05 0.00e+00 1.41e-10  -8.6 1.87e-02    -  1.00e+00 1.00e+00f  1\n",
      "  12  1.7975354e+05 0.00e+00 4.37e-11  -8.6 9.33e-03    -  1.00e+00 1.00e+00f  1\n",
      "  13  1.7975354e+05 0.00e+00 1.09e-11  -8.6 4.66e-03    -  1.00e+00 1.00e+00f  1\n",
      "  14  1.7975354e+05 0.00e+00 2.68e-12  -8.6 2.31e-03    -  1.00e+00 1.00e+00f  1\n",
      "  15  1.7975354e+05 0.00e+00 6.58e-13  -8.6 1.13e-03    -  1.00e+00 1.00e+00f  1\n",
      "  16  1.7975354e+05 0.00e+00 2.09e-13 -12.9 6.20e-04    -  1.00e+00 1.00e+00f  1\n",
      "\n",
      "Number of Iterations....: 16\n",
      "\n",
      "                                   (scaled)                 (unscaled)\n",
      "Objective...............:  -4.2807635675537944e+02    1.7975354296515137e+05\n",
      "Dual infeasibility......:   2.0870640339966021e-13    8.7637905851551311e-11\n",
      "Constraint violation....:   0.0000000000000000e+00    0.0000000000000000e+00\n",
      "Complementarity.........:   3.6668582088070260e-09   -1.5397504304601583e-06\n",
      "Overall NLP error.......:   3.6668582088070260e-09    8.7637905851551311e-11\n",
      "\n",
      "\n",
      "Number of objective function evaluations             = 17\n",
      "Number of objective gradient evaluations             = 17\n",
      "Number of equality constraint evaluations            = 0\n",
      "Number of inequality constraint evaluations          = 17\n",
      "Number of equality constraint Jacobian evaluations   = 0\n",
      "Number of inequality constraint Jacobian evaluations = 1\n",
      "Number of Lagrangian Hessian evaluations             = 16\n",
      "Total CPU secs in IPOPT (w/o function evaluations)   =      0.015\n",
      "Total CPU secs in NLP function evaluations           =      0.001\n",
      "\n",
      "EXIT: Optimal Solution Found.\n"
     ]
    }
   ],
   "source": [
    "optimize!(model)"
   ]
  },
  {
   "cell_type": "code",
   "execution_count": 72,
   "metadata": {},
   "outputs": [
    {
     "name": "stdout",
     "output_type": "stream",
     "text": [
      "value(s) = 18.995477276379486\n",
      "value(p) = 300.0006012519177\n",
      "objective_value(model) = 179753.54296515137\n",
      "value(Q) = 599.9986543109619\n"
     ]
    },
    {
     "data": {
      "text/plain": [
       "599.9986543109619"
      ]
     },
     "execution_count": 72,
     "metadata": {},
     "output_type": "execute_result"
    }
   ],
   "source": [
    "@show value(s)\n",
    "@show value(p)\n",
    "@show objective_value(model)\n",
    "@show value(Q)"
   ]
  }
 ],
 "metadata": {
  "kernelspec": {
   "display_name": "Julia 1.5.3",
   "language": "julia",
   "name": "julia-1.5"
  },
  "language_info": {
   "file_extension": ".jl",
   "mimetype": "application/julia",
   "name": "julia",
   "version": "1.5.3"
  }
 },
 "nbformat": 4,
 "nbformat_minor": 4
}
